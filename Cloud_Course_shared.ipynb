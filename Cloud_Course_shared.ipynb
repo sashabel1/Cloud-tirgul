{
  "nbformat": 4,
  "nbformat_minor": 0,
  "metadata": {
    "colab": {
      "provenance": [],
      "toc_visible": true,
      "include_colab_link": true
    },
    "kernelspec": {
      "name": "python3",
      "display_name": "Python 3"
    },
    "language_info": {
      "name": "python"
    }
  },
  "cells": [
    {
      "cell_type": "markdown",
      "metadata": {
        "id": "view-in-github",
        "colab_type": "text"
      },
      "source": [
        "<a href=\"https://colab.research.google.com/github/sashabel1/Cloud-tirgul/blob/master/Cloud_Course_shared.ipynb\" target=\"_parent\"><img src=\"https://colab.research.google.com/assets/colab-badge.svg\" alt=\"Open In Colab\"/></a>"
      ]
    },
    {
      "cell_type": "markdown",
      "source": [
        "תרגול **2**"
      ],
      "metadata": {
        "id": "rLmAqFPWg3EP"
      }
    },
    {
      "cell_type": "code",
      "source": [
        "import json\n",
        "print(\"Dictionary: \", json.dumps({\"name\": \"John\", \"age\": 30}))\n",
        "print(\"List:       \", json.dumps([\"apple\", \"bananas\"]))\n",
        "print(\"Tuple:      \", json.dumps((\"apple\", \"bananas\")))\n",
        "print(\"String:     \", json.dumps(\"hello\"))\n",
        "print(\"Integer:    \", json.dumps(42))\n",
        "print(\"Float:      \", json.dumps(31.76))\n",
        "print(\"True:       \", json.dumps(True))\n",
        "print(\"False:      \", json.dumps(False))\n",
        "print(\"None:       \", json.dumps(None))"
      ],
      "metadata": {
        "colab": {
          "base_uri": "https://localhost:8080/"
        },
        "id": "UoPkzQ_fb0lU",
        "outputId": "1cb35220-b0ad-46c1-ca8e-b586ec8a3298"
      },
      "execution_count": null,
      "outputs": [
        {
          "output_type": "stream",
          "name": "stdout",
          "text": [
            "Dictionary:  {\"name\": \"John\", \"age\": 30}\n",
            "List:        [\"apple\", \"bananas\"]\n",
            "Tuple:       [\"apple\", \"bananas\"]\n",
            "String:      \"hello\"\n",
            "Integer:     42\n",
            "Float:       31.76\n",
            "True:        true\n",
            "False:       false\n",
            "None:        null\n"
          ]
        }
      ]
    },
    {
      "cell_type": "code",
      "source": [
        "import json\n",
        "json_data = '{\"acronym\": \"BLD\", \"name\": \"Boulder Colorado\", \\\n",
        "              \"latitude\": 40.00, \"longitude\": -105.25}'\n",
        "python_obj = json.loads(json_data)\n",
        "print(\"Name:     \", python_obj[\"name\"])\n",
        "print(\"Acronym:  \", python_obj[\"acronym\"])\n",
        "print(\"Latitude: \", python_obj[\"latitude\"])\n",
        "print(\"Latitude: \", python_obj[\"longitude\"])\n",
        "\n",
        "print()\n",
        "print(json.dumps(python_obj, sort_keys=True, indent=4))\n"
      ],
      "metadata": {
        "id": "MzYW1V85g2dA",
        "outputId": "2f2f6b16-ae1b-42b1-bfff-c07a1855e038",
        "colab": {
          "base_uri": "https://localhost:8080/"
        }
      },
      "execution_count": null,
      "outputs": [
        {
          "output_type": "stream",
          "name": "stdout",
          "text": [
            "Name:      Boulder Colorado\n",
            "Acronym:   BLD\n",
            "Latitude:  40.0\n",
            "Latitude:  -105.25\n",
            "\n",
            "{\n",
            "    \"acronym\": \"BLD\",\n",
            "    \"latitude\": 40.0,\n",
            "    \"longitude\": -105.25,\n",
            "    \"name\": \"Boulder Colorado\"\n",
            "}\n"
          ]
        }
      ]
    },
    {
      "cell_type": "code",
      "source": [
        "import json\n",
        "array = '{\"drinks\": [\"coffee\", \"tea\", \"water\"]}'\n",
        "data = json.loads(array)\n",
        "\n",
        "print(json.dumps(data, sort_keys=True, indent=4))\n",
        "print()\n",
        "for element in data[\"drinks\"]:\n",
        "    print(element)\n"
      ],
      "metadata": {
        "id": "S_PwWXJkjhnh"
      },
      "execution_count": null,
      "outputs": []
    }
  ]
}