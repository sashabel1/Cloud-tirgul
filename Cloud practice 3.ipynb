{
  "nbformat": 4,
  "nbformat_minor": 0,
  "metadata": {
    "colab": {
      "provenance": [],
      "toc_visible": true,
      "authorship_tag": "ABX9TyPlfz66nRDn+SUNYSEuC+s+",
      "include_colab_link": true
    },
    "kernelspec": {
      "name": "python3",
      "display_name": "Python 3"
    },
    "language_info": {
      "name": "python"
    }
  },
  "cells": [
    {
      "cell_type": "markdown",
      "metadata": {
        "id": "view-in-github",
        "colab_type": "text"
      },
      "source": [
        "<a href=\"https://colab.research.google.com/github/sashabel1/Cloud-tirgul/blob/master/Cloud%20practice%203.ipynb\" target=\"_parent\"><img src=\"https://colab.research.google.com/assets/colab-badge.svg\" alt=\"Open In Colab\"/></a>"
      ]
    },
    {
      "cell_type": "code",
      "execution_count": 2,
      "metadata": {
        "id": "1uGkQJiPynRo",
        "outputId": "5b42f4f9-8fd4-4868-ee12-967f7507140b",
        "colab": {
          "base_uri": "https://localhost:8080/"
        }
      },
      "outputs": [
        {
          "output_type": "stream",
          "name": "stdout",
          "text": [
            "Requirement already satisfied: paho-mqtt in /usr/local/lib/python3.11/dist-packages (2.1.0)\n"
          ]
        }
      ],
      "source": [
        "pip install paho-mqtt\n"
      ]
    },
    {
      "cell_type": "code",
      "source": [
        "import paho.mqtt.client as mqtt\n",
        "import json\n"
      ],
      "metadata": {
        "id": "50KqL5zbhyGI"
      },
      "execution_count": 3,
      "outputs": []
    },
    {
      "cell_type": "code",
      "source": [
        "import paho.mqtt.client as mqtt\n",
        "import json\n",
        "\n",
        "# Callback function for when a message is received\n",
        "def on_message(client, userdata, msg):\n",
        "    try:\n",
        "        data = json.loads(msg.payload.decode())\n",
        "\n",
        "        # Extract values with lowercase field names\n",
        "        temperature = data.get(\"Temperature\", \"N/A\")\n",
        "        humidity = data.get(\"Humidity\", \"N/A\")\n",
        "        pressure = data.get(\"Pressure\", \"N/A\")\n",
        "\n",
        "        print(f\"Temperature: {temperature}°C, Humidity: {humidity}%, Pressure: {pressure} hPa\")\n",
        "\n",
        "    except json.JSONDecodeError:\n",
        "        print(\"Received invalid JSON data\")\n",
        "\n",
        "# MQTT setup\n",
        "broker = \"test.mosquitto.org\"\n",
        "topic = \"braude/D106/jdata\"\n",
        "\n",
        "client = mqtt.Client()\n",
        "client.on_message = on_message\n",
        "\n",
        "client.connect(broker, 1883, 60)\n",
        "client.subscribe(topic)\n",
        "\n",
        "print(f\"Subscribed to MQTT topic: {topic}\")\n",
        "client.loop_forever()\n"
      ],
      "metadata": {
        "id": "T2ipV87Bh2lv",
        "outputId": "a81befcd-0484-4b08-818e-fcbb9161994b",
        "colab": {
          "base_uri": "https://localhost:8080/",
          "height": 1000
        }
      },
      "execution_count": 5,
      "outputs": [
        {
          "output_type": "stream",
          "name": "stderr",
          "text": [
            "<ipython-input-5-28efcc41caa6>:23: DeprecationWarning: Callback API version 1 is deprecated, update to latest version\n",
            "  client = mqtt.Client()\n"
          ]
        },
        {
          "output_type": "stream",
          "name": "stdout",
          "text": [
            "Subscribed to MQTT topic: braude/D106/jdata\n",
            "Temperature: 22.24°C, Humidity: 45.9%, Pressure: N/A hPa\n",
            "Temperature: 22.24°C, Humidity: 45.92%, Pressure: N/A hPa\n",
            "Temperature: 22.24°C, Humidity: 45.92%, Pressure: N/A hPa\n",
            "Temperature: 22.23°C, Humidity: 45.91%, Pressure: N/A hPa\n",
            "Temperature: 22.21°C, Humidity: 45.9%, Pressure: N/A hPa\n",
            "Temperature: 22.23°C, Humidity: 45.96%, Pressure: N/A hPa\n",
            "Temperature: 22.23°C, Humidity: 45.94%, Pressure: N/A hPa\n",
            "Temperature: 22.23°C, Humidity: 45.95%, Pressure: N/A hPa\n",
            "Temperature: 22.23°C, Humidity: 45.95%, Pressure: N/A hPa\n",
            "Temperature: 22.23°C, Humidity: 45.98%, Pressure: N/A hPa\n",
            "Temperature: 22.23°C, Humidity: 45.97%, Pressure: N/A hPa\n",
            "Temperature: 22.21°C, Humidity: 46.0%, Pressure: N/A hPa\n",
            "Temperature: 22.25°C, Humidity: 46.02%, Pressure: N/A hPa\n",
            "Temperature: 22.21°C, Humidity: 45.99%, Pressure: N/A hPa\n",
            "Temperature: 22.22°C, Humidity: 46.02%, Pressure: N/A hPa\n",
            "Temperature: 22.23°C, Humidity: 46.02%, Pressure: N/A hPa\n",
            "Temperature: 22.21°C, Humidity: 46.01%, Pressure: N/A hPa\n",
            "Temperature: 22.21°C, Humidity: 45.97%, Pressure: N/A hPa\n",
            "Temperature: 22.21°C, Humidity: 46.0%, Pressure: N/A hPa\n",
            "Temperature: 22.24°C, Humidity: 46.01%, Pressure: N/A hPa\n",
            "Temperature: 22.22°C, Humidity: 46.01%, Pressure: N/A hPa\n",
            "Temperature: 22.22°C, Humidity: 46.0%, Pressure: N/A hPa\n",
            "Temperature: 22.22°C, Humidity: 46.0%, Pressure: N/A hPa\n",
            "Temperature: 22.24°C, Humidity: 46.01%, Pressure: N/A hPa\n",
            "Temperature: 22.21°C, Humidity: 46.03%, Pressure: N/A hPa\n",
            "Temperature: 22.24°C, Humidity: 46.0%, Pressure: N/A hPa\n",
            "Temperature: 22.24°C, Humidity: 46.0%, Pressure: N/A hPa\n",
            "Temperature: 22.23°C, Humidity: 46.05%, Pressure: N/A hPa\n",
            "Temperature: 22.21°C, Humidity: 45.99%, Pressure: N/A hPa\n",
            "Temperature: 22.21°C, Humidity: 46.0%, Pressure: N/A hPa\n",
            "Temperature: 22.21°C, Humidity: 46.02%, Pressure: N/A hPa\n",
            "Temperature: 22.23°C, Humidity: 46.0%, Pressure: N/A hPa\n",
            "Temperature: 22.23°C, Humidity: 46.0%, Pressure: N/A hPa\n",
            "Temperature: 22.24°C, Humidity: 46.04%, Pressure: N/A hPa\n",
            "Temperature: 22.21°C, Humidity: 46.04%, Pressure: N/A hPa\n",
            "Temperature: 22.23°C, Humidity: 46.02%, Pressure: N/A hPa\n",
            "Temperature: 22.23°C, Humidity: 46.04%, Pressure: N/A hPa\n",
            "Temperature: 22.22°C, Humidity: 46.01%, Pressure: N/A hPa\n",
            "Temperature: 22.24°C, Humidity: 46.01%, Pressure: N/A hPa\n",
            "Temperature: 22.22°C, Humidity: 46.01%, Pressure: N/A hPa\n",
            "Temperature: 22.22°C, Humidity: 46.01%, Pressure: N/A hPa\n",
            "Temperature: 22.23°C, Humidity: 46.03%, Pressure: N/A hPa\n",
            "Temperature: 22.22°C, Humidity: 46.01%, Pressure: N/A hPa\n",
            "Temperature: 22.23°C, Humidity: 46.07%, Pressure: N/A hPa\n",
            "Temperature: 22.23°C, Humidity: 46.01%, Pressure: N/A hPa\n",
            "Temperature: 22.23°C, Humidity: 46.02%, Pressure: N/A hPa\n",
            "Temperature: 22.23°C, Humidity: 46.06%, Pressure: N/A hPa\n",
            "Temperature: 22.23°C, Humidity: 45.98%, Pressure: N/A hPa\n",
            "Temperature: 22.22°C, Humidity: 46.03%, Pressure: N/A hPa\n",
            "Temperature: 22.21°C, Humidity: 46.02%, Pressure: N/A hPa\n",
            "Temperature: 22.23°C, Humidity: 46.01%, Pressure: N/A hPa\n",
            "Temperature: 22.24°C, Humidity: 46.03%, Pressure: N/A hPa\n",
            "Temperature: 22.24°C, Humidity: 46.0%, Pressure: N/A hPa\n",
            "Temperature: 22.24°C, Humidity: 46.0%, Pressure: N/A hPa\n",
            "Temperature: 22.22°C, Humidity: 46.03%, Pressure: N/A hPa\n",
            "Temperature: 22.23°C, Humidity: 46.01%, Pressure: N/A hPa\n",
            "Temperature: 22.23°C, Humidity: 46.02%, Pressure: N/A hPa\n",
            "Temperature: 22.23°C, Humidity: 46.05%, Pressure: N/A hPa\n",
            "Temperature: 22.23°C, Humidity: 45.99%, Pressure: N/A hPa\n"
          ]
        },
        {
          "output_type": "error",
          "ename": "KeyboardInterrupt",
          "evalue": "",
          "traceback": [
            "\u001b[0;31m---------------------------------------------------------------------------\u001b[0m",
            "\u001b[0;31mKeyboardInterrupt\u001b[0m                         Traceback (most recent call last)",
            "\u001b[0;32m<ipython-input-5-28efcc41caa6>\u001b[0m in \u001b[0;36m<cell line: 0>\u001b[0;34m()\u001b[0m\n\u001b[1;32m     28\u001b[0m \u001b[0;34m\u001b[0m\u001b[0m\n\u001b[1;32m     29\u001b[0m \u001b[0mprint\u001b[0m\u001b[0;34m(\u001b[0m\u001b[0;34mf\"Subscribed to MQTT topic: {topic}\"\u001b[0m\u001b[0;34m)\u001b[0m\u001b[0;34m\u001b[0m\u001b[0;34m\u001b[0m\u001b[0m\n\u001b[0;32m---> 30\u001b[0;31m \u001b[0mclient\u001b[0m\u001b[0;34m.\u001b[0m\u001b[0mloop_forever\u001b[0m\u001b[0;34m(\u001b[0m\u001b[0;34m)\u001b[0m\u001b[0;34m\u001b[0m\u001b[0;34m\u001b[0m\u001b[0m\n\u001b[0m",
            "\u001b[0;32m/usr/local/lib/python3.11/dist-packages/paho/mqtt/client.py\u001b[0m in \u001b[0;36mloop_forever\u001b[0;34m(self, timeout, retry_first_connection)\u001b[0m\n\u001b[1;32m   2295\u001b[0m             \u001b[0mrc\u001b[0m \u001b[0;34m=\u001b[0m \u001b[0mMQTTErrorCode\u001b[0m\u001b[0;34m.\u001b[0m\u001b[0mMQTT_ERR_SUCCESS\u001b[0m\u001b[0;34m\u001b[0m\u001b[0;34m\u001b[0m\u001b[0m\n\u001b[1;32m   2296\u001b[0m             \u001b[0;32mwhile\u001b[0m \u001b[0mrc\u001b[0m \u001b[0;34m==\u001b[0m \u001b[0mMQTTErrorCode\u001b[0m\u001b[0;34m.\u001b[0m\u001b[0mMQTT_ERR_SUCCESS\u001b[0m\u001b[0;34m:\u001b[0m\u001b[0;34m\u001b[0m\u001b[0;34m\u001b[0m\u001b[0m\n\u001b[0;32m-> 2297\u001b[0;31m                 \u001b[0mrc\u001b[0m \u001b[0;34m=\u001b[0m \u001b[0mself\u001b[0m\u001b[0;34m.\u001b[0m\u001b[0m_loop\u001b[0m\u001b[0;34m(\u001b[0m\u001b[0mtimeout\u001b[0m\u001b[0;34m)\u001b[0m\u001b[0;34m\u001b[0m\u001b[0;34m\u001b[0m\u001b[0m\n\u001b[0m\u001b[1;32m   2298\u001b[0m                 \u001b[0;31m# We don't need to worry about locking here, because we've\u001b[0m\u001b[0;34m\u001b[0m\u001b[0;34m\u001b[0m\u001b[0m\n\u001b[1;32m   2299\u001b[0m                 \u001b[0;31m# either called loop_forever() when in single threaded mode, or\u001b[0m\u001b[0;34m\u001b[0m\u001b[0;34m\u001b[0m\u001b[0m\n",
            "\u001b[0;32m/usr/local/lib/python3.11/dist-packages/paho/mqtt/client.py\u001b[0m in \u001b[0;36m_loop\u001b[0;34m(self, timeout)\u001b[0m\n\u001b[1;32m   1661\u001b[0m \u001b[0;34m\u001b[0m\u001b[0m\n\u001b[1;32m   1662\u001b[0m         \u001b[0;32mtry\u001b[0m\u001b[0;34m:\u001b[0m\u001b[0;34m\u001b[0m\u001b[0;34m\u001b[0m\u001b[0m\n\u001b[0;32m-> 1663\u001b[0;31m             \u001b[0msocklist\u001b[0m \u001b[0;34m=\u001b[0m \u001b[0mselect\u001b[0m\u001b[0;34m.\u001b[0m\u001b[0mselect\u001b[0m\u001b[0;34m(\u001b[0m\u001b[0mrlist\u001b[0m\u001b[0;34m,\u001b[0m \u001b[0mwlist\u001b[0m\u001b[0;34m,\u001b[0m \u001b[0;34m[\u001b[0m\u001b[0;34m]\u001b[0m\u001b[0;34m,\u001b[0m \u001b[0mtimeout\u001b[0m\u001b[0;34m)\u001b[0m\u001b[0;34m\u001b[0m\u001b[0;34m\u001b[0m\u001b[0m\n\u001b[0m\u001b[1;32m   1664\u001b[0m         \u001b[0;32mexcept\u001b[0m \u001b[0mTypeError\u001b[0m\u001b[0;34m:\u001b[0m\u001b[0;34m\u001b[0m\u001b[0;34m\u001b[0m\u001b[0m\n\u001b[1;32m   1665\u001b[0m             \u001b[0;31m# Socket isn't correct type, in likelihood connection is lost\u001b[0m\u001b[0;34m\u001b[0m\u001b[0;34m\u001b[0m\u001b[0m\n",
            "\u001b[0;31mKeyboardInterrupt\u001b[0m: "
          ]
        }
      ]
    }
  ]
}